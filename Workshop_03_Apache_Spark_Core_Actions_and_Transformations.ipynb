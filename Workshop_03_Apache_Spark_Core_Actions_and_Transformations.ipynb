{
  "nbformat": 4,
  "nbformat_minor": 0,
  "metadata": {
    "colab": {
      "provenance": [],
      "authorship_tag": "ABX9TyPz7cjqqhWS2fA/5/COJ5kw",
      "include_colab_link": true
    },
    "kernelspec": {
      "name": "python3",
      "display_name": "Python 3"
    },
    "language_info": {
      "name": "python"
    }
  },
  "cells": [
    {
      "cell_type": "markdown",
      "metadata": {
        "id": "view-in-github",
        "colab_type": "text"
      },
      "source": [
        "<a href=\"https://colab.research.google.com/github/ngtianxun08/bigDataworkshops/blob/main/Workshop_03_Apache_Spark_Core_Actions_and_Transformations.ipynb\" target=\"_parent\"><img src=\"https://colab.research.google.com/assets/colab-badge.svg\" alt=\"Open In Colab\"/></a>"
      ]
    },
    {
      "cell_type": "code",
      "execution_count": 4,
      "metadata": {
        "colab": {
          "base_uri": "https://localhost:8080/"
        },
        "id": "hqDlCFJ1ph7w",
        "outputId": "8085f288-66a3-4060-ea4e-024ec5ff3fee"
      },
      "outputs": [
        {
          "output_type": "stream",
          "name": "stdout",
          "text": [
            "Found existing installation: pyspark 4.0.0\n",
            "Uninstalling pyspark-4.0.0:\n",
            "  Successfully uninstalled pyspark-4.0.0\n",
            "Found existing installation: findspark 2.0.1\n",
            "Uninstalling findspark-2.0.1:\n",
            "  Successfully uninstalled findspark-2.0.1\n"
          ]
        }
      ],
      "source": [
        "# Uninstall existing pyspark and findspark\n",
        "!pip uninstall -y pyspark findspark\n",
        "# install pyspark using pip\n",
        "!pip install --ignore-install -q pyspark==3.5.1\n",
        "# install findspark using pip\n",
        "!pip install --ignore-install -q findspark"
      ]
    },
    {
      "cell_type": "code",
      "source": [
        "from pyspark.sql import SparkSession\n",
        "import collections\n",
        "\n",
        "spark = SparkSession.builder.master(\"local\").appName(\"Colab Demo for Actions and Transofrmations\").config('spark.ui.port', '4050').getOrCreate()"
      ],
      "metadata": {
        "id": "wkLJ-4Qfp37k"
      },
      "execution_count": 5,
      "outputs": []
    },
    {
      "cell_type": "markdown",
      "source": [
        "Map"
      ],
      "metadata": {
        "id": "Ltdv2mK-tC60"
      }
    },
    {
      "cell_type": "code",
      "source": [
        "data = [1, 2, 3, 4, 5]\n",
        "rdd = spark.sparkContext.parallelize(data)\n",
        "# Multiply each element by 2\n",
        "multiplied = rdd.map(lambda x: x * 2)\n",
        "print(multiplied.collect())  # [2, 4, 6, 8, 10]"
      ],
      "metadata": {
        "colab": {
          "base_uri": "https://localhost:8080/"
        },
        "id": "Uf8WYUjBsEsM",
        "outputId": "67caa8a9-c976-4758-fab0-da2634107e40"
      },
      "execution_count": 6,
      "outputs": [
        {
          "output_type": "stream",
          "name": "stdout",
          "text": [
            "[2, 4, 6, 8, 10]\n"
          ]
        }
      ]
    },
    {
      "cell_type": "code",
      "source": [
        "data_tuples = [(1, 'a'), (2, 'b'), (3, 'c')]\n",
        "rdd_tuples = spark.sparkContext.parallelize(data_tuples)\n",
        "# Add 1 to the number in each tuple\n",
        "added = rdd_tuples.map(lambda x: (x[0] + 1, x[1]))\n",
        "print(added.collect())  # [(2, 'a'), (3, 'b'), (4, 'c')]"
      ],
      "metadata": {
        "colab": {
          "base_uri": "https://localhost:8080/"
        },
        "id": "yVi09Ye4sWRc",
        "outputId": "ae2826dd-95bc-455d-d00c-cf901b7e05b1"
      },
      "execution_count": 7,
      "outputs": [
        {
          "output_type": "stream",
          "name": "stdout",
          "text": [
            "[(2, 'a'), (3, 'b'), (4, 'c')]\n"
          ]
        }
      ]
    },
    {
      "cell_type": "code",
      "source": [
        "data_strings = [\"Hello\", \"PySpark\", \"World\"]\n",
        "rdd_strings = spark.sparkContext.parallelize(data_strings)\n",
        "# Convert each string to uppercase\n",
        "uppercase = rdd_strings.map(lambda x: x.upper())\n",
        "print(uppercase.collect())  # ['HELLO', 'PYSPARK', 'WORLD']"
      ],
      "metadata": {
        "colab": {
          "base_uri": "https://localhost:8080/"
        },
        "id": "GJzDphNkserg",
        "outputId": "64df614b-a1cc-4b7e-9b07-6816a17c0be9"
      },
      "execution_count": 8,
      "outputs": [
        {
          "output_type": "stream",
          "name": "stdout",
          "text": [
            "['HELLO', 'PYSPARK', 'WORLD']\n"
          ]
        }
      ]
    },
    {
      "cell_type": "code",
      "source": [
        "numbers = [1, 2, 3, 4, 5]\n",
        "rdd_numbers = spark.sparkContext.parallelize(numbers)\n",
        "\n",
        "# Perform a series of operations: square, then add 2\n",
        "result = rdd_numbers.map(lambda x: x**2).map(lambda y: y + 2)\n",
        "print(result.collect())  # [3, 6, 11, 18, 27]"
      ],
      "metadata": {
        "colab": {
          "base_uri": "https://localhost:8080/"
        },
        "id": "y71qMngysi_h",
        "outputId": "97d82ea8-4c40-4071-c8ec-5f44cd99f442"
      },
      "execution_count": 9,
      "outputs": [
        {
          "output_type": "stream",
          "name": "stdout",
          "text": [
            "[3, 6, 11, 18, 27]\n"
          ]
        }
      ]
    },
    {
      "cell_type": "code",
      "source": [
        "def square_and_add_one(n):\n",
        "  return n**2 + 1\n",
        "\n",
        "numbers = [1, 2, 3, 4, 5]\n",
        "rdd_numbers = spark.sparkContext.parallelize(numbers)\n",
        "result = rdd_numbers.map(square_and_add_one)\n",
        "print(result.collect())  # [2, 5, 10, 17, 26]"
      ],
      "metadata": {
        "colab": {
          "base_uri": "https://localhost:8080/"
        },
        "id": "BP0v73Z5svO2",
        "outputId": "5249c47c-bbb7-4fa8-ff7b-fedb32ad7268"
      },
      "execution_count": 10,
      "outputs": [
        {
          "output_type": "stream",
          "name": "stdout",
          "text": [
            "[2, 5, 10, 17, 26]\n"
          ]
        }
      ]
    },
    {
      "cell_type": "code",
      "source": [
        "x = [1, 2, 3, 4, 5]\n",
        "squared_rdd = rdd.map(lambda x: x*x)\n",
        "print(squared_rdd.collect()) # [1, 4, 9, 16, 25]"
      ],
      "metadata": {
        "colab": {
          "base_uri": "https://localhost:8080/"
        },
        "id": "UeLmtjbts0fk",
        "outputId": "cb4e32e6-6f2e-459c-ec65-33eaa3be8324"
      },
      "execution_count": 11,
      "outputs": [
        {
          "output_type": "stream",
          "name": "stdout",
          "text": [
            "[1, 4, 9, 16, 25]\n"
          ]
        }
      ]
    },
    {
      "cell_type": "markdown",
      "source": [
        "Flatmap"
      ],
      "metadata": {
        "id": "Z50kdMDDs9VY"
      }
    },
    {
      "cell_type": "code",
      "source": [
        "sentences = [\"Hello world\", \"I am learning PySpark\"]\n",
        "rdd_sentences = spark.sparkContext.parallelize(sentences)\n",
        "words = rdd_sentences.flatMap(lambda x: x.split(\" \"))\n",
        "print(words.collect())  # ['Hello', 'world', 'I', 'am', 'learning', 'PySpark']"
      ],
      "metadata": {
        "colab": {
          "base_uri": "https://localhost:8080/"
        },
        "id": "uhBlN-S-s-6M",
        "outputId": "af6a2acb-3fe7-49c0-8266-d4bbe9d4d9d5"
      },
      "execution_count": 12,
      "outputs": [
        {
          "output_type": "stream",
          "name": "stdout",
          "text": [
            "['Hello', 'world', 'I', 'am', 'learning', 'PySpark']\n"
          ]
        }
      ]
    },
    {
      "cell_type": "code",
      "source": [
        "numbers = [1, 3, 4]\n",
        "rdd_numbers = spark.sparkContext.parallelize(numbers)\n",
        "ranges = rdd_numbers.flatMap(lambda x: range(x + 1))\n",
        "print(ranges.collect())  # [0, 1, 0, 1, 2, 3, 0, 1, 2, 3, 4]"
      ],
      "metadata": {
        "colab": {
          "base_uri": "https://localhost:8080/"
        },
        "id": "HwqrWlIKtnTQ",
        "outputId": "1a6abc2b-a56b-470d-b44f-f8e1d09061fa"
      },
      "execution_count": 13,
      "outputs": [
        {
          "output_type": "stream",
          "name": "stdout",
          "text": [
            "[0, 1, 0, 1, 2, 3, 0, 1, 2, 3, 4]\n"
          ]
        }
      ]
    },
    {
      "cell_type": "code",
      "source": [
        "lists = [[1, 2, 3], [4, 5], [6, 7, 8, 9]]\n",
        "rdd_lists = spark.sparkContext.parallelize(lists)\n",
        "flattened = rdd_lists.flatMap(lambda x: x)\n",
        "print(flattened.collect())  # [1, 2, 3, 4, 5, 6, 7, 8, 9]"
      ],
      "metadata": {
        "colab": {
          "base_uri": "https://localhost:8080/"
        },
        "id": "A9UeaIAEtv7T",
        "outputId": "3704c1ba-5a1c-474e-c599-a29658b41e3c"
      },
      "execution_count": 14,
      "outputs": [
        {
          "output_type": "stream",
          "name": "stdout",
          "text": [
            "[1, 2, 3, 4, 5, 6, 7, 8, 9]\n"
          ]
        }
      ]
    },
    {
      "cell_type": "code",
      "source": [
        "pairs = [(\"a\", [1, 2, 3]), (\"b\", [4, 5])]\n",
        "rdd_pairs = spark.sparkContext.parallelize(pairs)\n",
        "expanded_pairs = rdd_pairs.flatMap(lambda x: [(x[0], i) for i in x[1]])\n",
        "print(expanded_pairs.collect())\n",
        "# [('a', 1), ('a', 2), ('a', 3), ('b', 4), ('b', 5)]"
      ],
      "metadata": {
        "colab": {
          "base_uri": "https://localhost:8080/"
        },
        "id": "P7wu6cbTt0h5",
        "outputId": "4d5036d1-09b4-48e5-b5a1-c689082b0f0b"
      },
      "execution_count": 16,
      "outputs": [
        {
          "output_type": "stream",
          "name": "stdout",
          "text": [
            "[('a', 1), ('a', 2), ('a', 3), ('b', 4), ('b', 5)]\n"
          ]
        }
      ]
    },
    {
      "cell_type": "code",
      "source": [
        "sentences = [\"Hello world\", \"PySpark is awesome\"]\n",
        "rdd_sentences = spark.sparkContext.parallelize(sentences)\n",
        "word_lengths = rdd_sentences.flatMap(lambda x: [(word, len(word)) for word in x.split(\" \")])\n",
        "print(word_lengths.collect())  # [('Hello', 5), ('world', 5), ('PySpark', 7), ('is', 2), ('awesome', 7)]"
      ],
      "metadata": {
        "colab": {
          "base_uri": "https://localhost:8080/"
        },
        "id": "s_N-pmPvt_np",
        "outputId": "d630897f-6b8f-4d12-8e57-0bd39d632256"
      },
      "execution_count": 18,
      "outputs": [
        {
          "output_type": "stream",
          "name": "stdout",
          "text": [
            "[('Hello', 5), ('world', 5), ('PySpark', 7), ('is', 2), ('awesome', 7)]\n"
          ]
        }
      ]
    },
    {
      "cell_type": "markdown",
      "source": [
        "Filter"
      ],
      "metadata": {
        "id": "ZM6uK7v5uJbs"
      }
    },
    {
      "cell_type": "code",
      "source": [
        "sc = spark.sparkContext"
      ],
      "metadata": {
        "id": "COEFG1wFubw8"
      },
      "execution_count": 21,
      "outputs": []
    },
    {
      "cell_type": "code",
      "source": [
        "rdd = sc.parallelize([1, 2, 3, 4, 5, 6, 7, 8, 9, 10])\n",
        "even_rdd = rdd.filter(lambda x: x % 2 == 0)\n",
        "print(even_rdd.collect())  # [2, 4, 6, 8, 10]"
      ],
      "metadata": {
        "colab": {
          "base_uri": "https://localhost:8080/"
        },
        "id": "GLKXXwkhuKlQ",
        "outputId": "049864a2-35e4-4c87-97b7-60f97d547050"
      },
      "execution_count": 19,
      "outputs": [
        {
          "output_type": "stream",
          "name": "stdout",
          "text": [
            "[2, 4, 6, 8, 10]\n"
          ]
        }
      ]
    },
    {
      "cell_type": "code",
      "source": [
        "words_rdd = sc.parallelize([\"Spark\", \"Python\", \"Data\", \"ML\", \"AI\"])\n",
        "long_words_rdd = words_rdd.filter(lambda x: len(x) > 4)\n",
        "print(long_words_rdd.collect())  # ['Spark', 'Python']"
      ],
      "metadata": {
        "colab": {
          "base_uri": "https://localhost:8080/"
        },
        "id": "RTMg_c12uZd3",
        "outputId": "a1af1095-451c-4b45-c4bb-c9d6a7765931"
      },
      "execution_count": 23,
      "outputs": [
        {
          "output_type": "stream",
          "name": "stdout",
          "text": [
            "['Spark', 'Python']\n"
          ]
        }
      ]
    },
    {
      "cell_type": "code",
      "source": [
        "targets = [\"Python\", \"Java\", \"Scala\"]\n",
        "languages_rdd = sc.parallelize([\"Python\", \"Java\", \"C++\", \"Scala\", \"Go\"])\n",
        "filtered_rdd = languages_rdd.filter(lambda x: x in targets)\n",
        "print(filtered_rdd.collect())  # ['Python', 'Java', 'Scala']"
      ],
      "metadata": {
        "colab": {
          "base_uri": "https://localhost:8080/"
        },
        "id": "ULXI_XiruxWQ",
        "outputId": "359b479a-9f44-4782-a3e3-121855e670fe"
      },
      "execution_count": 24,
      "outputs": [
        {
          "output_type": "stream",
          "name": "stdout",
          "text": [
            "['Python', 'Java', 'Scala']\n"
          ]
        }
      ]
    },
    {
      "cell_type": "markdown",
      "source": [
        "groupByKey"
      ],
      "metadata": {
        "id": "Mv9MkHw1u06t"
      }
    },
    {
      "cell_type": "code",
      "source": [
        "rdd = spark.sparkContext.parallelize([(1, \"apple\"), (2, \"banana\"), (3,\n",
        "\"cherry\"), (1, \"apricot\"), (2, \"blueberry\")])\n",
        "grouped_rdd = rdd.groupByKey()\n",
        "# To see the results:\n",
        "for key, values in grouped_rdd.collect():\n",
        "  print(f\"{key}: {list(values)}\")"
      ],
      "metadata": {
        "colab": {
          "base_uri": "https://localhost:8080/"
        },
        "id": "CwPZ5Vitu1dz",
        "outputId": "bf062e9f-8e1e-4103-b408-5310419a3d80"
      },
      "execution_count": 25,
      "outputs": [
        {
          "output_type": "stream",
          "name": "stdout",
          "text": [
            "1: ['apple', 'apricot']\n",
            "2: ['banana', 'blueberry']\n",
            "3: ['cherry']\n"
          ]
        }
      ]
    },
    {
      "cell_type": "markdown",
      "source": [
        "reduceByKey"
      ],
      "metadata": {
        "id": "ahiZv93bvCjW"
      }
    },
    {
      "cell_type": "code",
      "source": [
        "rdd = spark.sparkContext.parallelize([(1, 1), (2, 1), (3, 1), (1, 1),\n",
        "(2, 1)])\n",
        "summed_rdd = rdd.reduceByKey(lambda x, y: x + y)\n",
        "print(summed_rdd.collect())\n",
        "# [(1, 2), (2, 2), (3, 1)]"
      ],
      "metadata": {
        "colab": {
          "base_uri": "https://localhost:8080/"
        },
        "id": "6uZujnD2vC92",
        "outputId": "ea1355b1-4adc-4135-87ae-4da64866d139"
      },
      "execution_count": 26,
      "outputs": [
        {
          "output_type": "stream",
          "name": "stdout",
          "text": [
            "[(1, 2), (2, 2), (3, 1)]\n"
          ]
        }
      ]
    },
    {
      "cell_type": "markdown",
      "source": [
        "sortByKey"
      ],
      "metadata": {
        "id": "3KNHIZyAwHrL"
      }
    },
    {
      "cell_type": "code",
      "source": [
        "rdd = spark.sparkContext.parallelize([(2, \"banana\"), (1, \"apple\"), (3,\n",
        "\"cherry\")])\n",
        "sorted_rdd = rdd.sortByKey()\n",
        "print(sorted_rdd.collect())\n",
        "# [(1, 'apple'), (2, 'banana'), (3, 'cherry')]"
      ],
      "metadata": {
        "colab": {
          "base_uri": "https://localhost:8080/"
        },
        "id": "23LfwCD3wJS3",
        "outputId": "ea3a1589-8583-4c5a-cdc6-6a94c98e2d81"
      },
      "execution_count": 27,
      "outputs": [
        {
          "output_type": "stream",
          "name": "stdout",
          "text": [
            "[(1, 'apple'), (2, 'banana'), (3, 'cherry')]\n"
          ]
        }
      ]
    },
    {
      "cell_type": "code",
      "source": [
        "sales_rdd = sc.parallelize([(101, 200.0), (102, 150.0), (101, 250.0),\n",
        "(103, 300.0)])\n",
        "total_sales = sales_rdd.reduceByKey(lambda x, y: x + y)\n",
        "sorted_sales = total_sales.sortByKey()\n",
        "print(sorted_sales.collect())\n",
        "# [(101, 450.0), (102, 150.0), (103, 300.0)]"
      ],
      "metadata": {
        "colab": {
          "base_uri": "https://localhost:8080/"
        },
        "id": "IlNbX21OwMo3",
        "outputId": "3b2a79cb-0bd7-4a25-8649-df7eb9510caa"
      },
      "execution_count": 28,
      "outputs": [
        {
          "output_type": "stream",
          "name": "stdout",
          "text": [
            "[(101, 450.0), (102, 150.0), (103, 300.0)]\n"
          ]
        }
      ]
    },
    {
      "cell_type": "markdown",
      "source": [
        "Join"
      ],
      "metadata": {
        "id": "3QW2_9GNwPHl"
      }
    },
    {
      "cell_type": "code",
      "source": [
        "rdd1 = sc.parallelize([(1, \"apple\"), (2, \"banana\"), (3, \"cherry\")])\n",
        "rdd2 = sc.parallelize([(1, \"fruit\"), (2, \"fruit\"), (4, \"vegetable\")])\n",
        "joined_rdd = rdd1.join(rdd2)\n",
        "print(joined_rdd.collect())\n",
        "# [(1, ('apple', 'fruit')), (2, ('banana', 'fruit'))]"
      ],
      "metadata": {
        "colab": {
          "base_uri": "https://localhost:8080/"
        },
        "id": "4hU4bvcOwQRn",
        "outputId": "edbf6891-017d-45fe-d05e-74e82eff9b5e"
      },
      "execution_count": 29,
      "outputs": [
        {
          "output_type": "stream",
          "name": "stdout",
          "text": [
            "[(2, ('banana', 'fruit')), (1, ('apple', 'fruit'))]\n"
          ]
        }
      ]
    },
    {
      "cell_type": "markdown",
      "source": [
        "Union"
      ],
      "metadata": {
        "id": "KmDzOrTUwZ4D"
      }
    },
    {
      "cell_type": "code",
      "source": [
        "rdd3 = sc.parallelize([(1, \"apple\"), (2, \"banana\")])\n",
        "rdd4 = sc.parallelize([(3, \"cherry\"), (4, \"date\")])\n",
        "union_rdd = rdd3.union(rdd4)\n",
        "print(union_rdd.collect())\n",
        "# [(1, 'apple'), (2, 'banana'), (3, 'cherry'), (4, 'date')]"
      ],
      "metadata": {
        "colab": {
          "base_uri": "https://localhost:8080/"
        },
        "id": "X6TntQsGwa8Z",
        "outputId": "c9e9d544-ee94-4599-b6b8-2cd00380b1e9"
      },
      "execution_count": 30,
      "outputs": [
        {
          "output_type": "stream",
          "name": "stdout",
          "text": [
            "[(1, 'apple'), (2, 'banana'), (3, 'cherry'), (4, 'date')]\n"
          ]
        }
      ]
    },
    {
      "cell_type": "markdown",
      "source": [
        "Actions"
      ],
      "metadata": {
        "id": "NLfAqL2pwcs1"
      }
    },
    {
      "cell_type": "markdown",
      "source": [
        "Collect\n"
      ],
      "metadata": {
        "id": "ZJCM_bD2wncN"
      }
    },
    {
      "cell_type": "code",
      "source": [
        "print(rdd.collect())"
      ],
      "metadata": {
        "colab": {
          "base_uri": "https://localhost:8080/"
        },
        "id": "HD5h0BRiwepD",
        "outputId": "1da9d1e4-10f7-4b8b-ef5c-c96770925b7b"
      },
      "execution_count": 31,
      "outputs": [
        {
          "output_type": "stream",
          "name": "stdout",
          "text": [
            "[(2, 'banana'), (1, 'apple'), (3, 'cherry')]\n"
          ]
        }
      ]
    },
    {
      "cell_type": "markdown",
      "source": [
        "Count"
      ],
      "metadata": {
        "id": "ASRwCRanwouk"
      }
    },
    {
      "cell_type": "code",
      "source": [
        "print(rdd.count())"
      ],
      "metadata": {
        "colab": {
          "base_uri": "https://localhost:8080/"
        },
        "id": "BRlaW_o6wppK",
        "outputId": "867c813e-d52e-4bf8-ab60-5113c8382383"
      },
      "execution_count": 32,
      "outputs": [
        {
          "output_type": "stream",
          "name": "stdout",
          "text": [
            "3\n"
          ]
        }
      ]
    },
    {
      "cell_type": "markdown",
      "source": [
        "first"
      ],
      "metadata": {
        "id": "w5YgN-kIwsX8"
      }
    },
    {
      "cell_type": "code",
      "source": [
        "print(rdd.first())"
      ],
      "metadata": {
        "colab": {
          "base_uri": "https://localhost:8080/"
        },
        "id": "3oEfBXNrwtri",
        "outputId": "928dc5a4-e1b4-4c9c-eab1-0475591c112e"
      },
      "execution_count": 33,
      "outputs": [
        {
          "output_type": "stream",
          "name": "stdout",
          "text": [
            "(2, 'banana')\n"
          ]
        }
      ]
    },
    {
      "cell_type": "markdown",
      "source": [
        "Take"
      ],
      "metadata": {
        "id": "Z9Rg6P7twyIw"
      }
    },
    {
      "cell_type": "code",
      "source": [
        "print(rdd.take(3))"
      ],
      "metadata": {
        "colab": {
          "base_uri": "https://localhost:8080/"
        },
        "id": "GZ_8kCLpwzVu",
        "outputId": "dc7ac5bb-9e7a-4226-f474-7a91cd95bda6"
      },
      "execution_count": 34,
      "outputs": [
        {
          "output_type": "stream",
          "name": "stdout",
          "text": [
            "[(2, 'banana'), (1, 'apple'), (3, 'cherry')]\n"
          ]
        }
      ]
    },
    {
      "cell_type": "markdown",
      "source": [
        "reduce"
      ],
      "metadata": {
        "id": "0WPv9hnMw1At"
      }
    },
    {
      "cell_type": "code",
      "source": [
        "sum = rdd.reduce(lambda a, b: a + b)\n",
        "print(sum)"
      ],
      "metadata": {
        "colab": {
          "base_uri": "https://localhost:8080/"
        },
        "id": "4_lkxbLEw2V-",
        "outputId": "b45e32a1-092b-49b9-f4c1-3f37913ec075"
      },
      "execution_count": 35,
      "outputs": [
        {
          "output_type": "stream",
          "name": "stdout",
          "text": [
            "(2, 'banana', 1, 'apple', 3, 'cherry')\n"
          ]
        }
      ]
    }
  ]
}