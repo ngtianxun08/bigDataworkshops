{
  "nbformat": 4,
  "nbformat_minor": 0,
  "metadata": {
    "colab": {
      "provenance": [],
      "mount_file_id": "1BxHK43j_iyKeZ7KWVCPJR8kRB4HS7nX6",
      "authorship_tag": "ABX9TyNeC04A357fg0PAVDDKVmUP",
      "include_colab_link": true
    },
    "kernelspec": {
      "name": "python3",
      "display_name": "Python 3"
    },
    "language_info": {
      "name": "python"
    }
  },
  "cells": [
    {
      "cell_type": "markdown",
      "metadata": {
        "id": "view-in-github",
        "colab_type": "text"
      },
      "source": [
        "<a href=\"https://colab.research.google.com/github/ngtianxun08/bigDataworkshops/blob/main/Workshop_04_NoSQL_and_Spark_Query_Language_(Python_%26_COLAB).ipynb\" target=\"_parent\"><img src=\"https://colab.research.google.com/assets/colab-badge.svg\" alt=\"Open In Colab\"/></a>"
      ]
    },
    {
      "cell_type": "markdown",
      "source": [
        "Mount google drive"
      ],
      "metadata": {
        "id": "R-wV5FFvIF1a"
      }
    },
    {
      "cell_type": "code",
      "source": [
        "from google.colab import drive\n",
        "drive.mount('/content/drive')"
      ],
      "metadata": {
        "colab": {
          "base_uri": "https://localhost:8080/"
        },
        "id": "o0BB_CbfIJaK",
        "outputId": "c4034551-b506-49d1-d369-3c3076702825"
      },
      "execution_count": 3,
      "outputs": [
        {
          "output_type": "stream",
          "name": "stdout",
          "text": [
            "Mounted at /content/drive\n"
          ]
        }
      ]
    },
    {
      "cell_type": "markdown",
      "source": [
        "A. Data retrieval using Spark SQL"
      ],
      "metadata": {
        "id": "JZGATaxMHcvW"
      }
    },
    {
      "cell_type": "markdown",
      "source": [
        "1. Retrieve all Driver data (use Drivers.CSV)"
      ],
      "metadata": {
        "id": "xiZKpvLbHgFH"
      }
    },
    {
      "cell_type": "code",
      "source": [
        "import findspark\n",
        "findspark.init()\n",
        "from pyspark.sql import SparkSession\n",
        "\n",
        "# Create a SparkSession\n",
        "spark = SparkSession.builder.appName(\"DriverDataRetrieval\").getOrCreate()\n",
        "\n",
        "# Load the Drivers.CSV file into a Spark DataFrame\n",
        "drivers_df = spark.read.csv(\"/content/drive/Othercomputers/My Laptop/NUS_GDrive/Big data/workshopData/data/BEAD_Rebu_Drivers.csv\", header=True, inferSchema=True)\n",
        "\n",
        "# Register the DataFrame as a temporary SQL view\n",
        "drivers_df.createOrReplaceTempView(\"drivers\")\n",
        "\n",
        "# Retrieve all Driver data using Spark SQL\n",
        "all_drivers = spark.sql(\"SELECT * FROM drivers\")\n",
        "\n",
        "# Display the retrieved data\n",
        "all_drivers.show()"
      ],
      "metadata": {
        "colab": {
          "base_uri": "https://localhost:8080/"
        },
        "id": "gH5T0QMyHp6g",
        "outputId": "71ee228c-c56a-41ef-fb28-20c1da6d8e1b"
      },
      "execution_count": 6,
      "outputs": [
        {
          "output_type": "stream",
          "name": "stdout",
          "text": [
            "+---+-----------------+-----------+-------------+------+\n",
            "|Sno|       DriverName|DriverPhone|TaxiIDDriving|Rating|\n",
            "+---+-----------------+-----------+-------------+------+\n",
            "|  1|Georgiana Iverson|   38587202|          209|   1.7|\n",
            "|  2|   Ewell Rolstone|   88675586|          243|   4.9|\n",
            "|  3|    Pedro Thacker|   94452422|          197|   2.6|\n",
            "|  4|     Winn Kellard|   81521505|          456|   4.8|\n",
            "|  5|   Ermin Trounson|   21644415|          372|   4.1|\n",
            "|  6| Weylin Bernhardi|   89930924|          397|   4.7|\n",
            "|  7|  Giuseppe Manton|   78503208|          463|   3.3|\n",
            "|  8| Friedrich De'Ath|   64901517|          264|   4.4|\n",
            "|  9|  Lauraine Galton|   28736147|          367|   4.7|\n",
            "| 10|   Debra Willeman|   97189395|          277|   4.6|\n",
            "| 11| Francene Gavriel|   88137354|           32|   4.9|\n",
            "| 12|     Eyde Brosini|   34871916|          386|   4.2|\n",
            "| 13|  Orelia Woolfoot|   28037658|          329|   4.1|\n",
            "| 14|Christi Middleton|   97577827|          453|   4.8|\n",
            "| 15|     Jamey Cecely|   48329871|          418|   4.7|\n",
            "| 16|  Rosetta Matanin|   59730924|          335|   3.4|\n",
            "| 17|Antonina Newlands|   50182407|          255|   3.3|\n",
            "| 18|  Eilis MacGraith|   87527429|          385|   4.5|\n",
            "| 19|    Cozmo Macenzy|   20817333|          503|   4.5|\n",
            "| 20| Demetrius Fuente|   66677742|          500|   3.0|\n",
            "+---+-----------------+-----------+-------------+------+\n",
            "only showing top 20 rows\n",
            "\n"
          ]
        }
      ]
    },
    {
      "cell_type": "markdown",
      "source": [
        "2. Retrieve all Taxis and display the data in ascending order of Taxi License Plate number."
      ],
      "metadata": {
        "id": "LmgvOq0aHiJj"
      }
    },
    {
      "cell_type": "code",
      "source": [
        "# Load the TaxiCabs.json file into a Spark DataFrame with multiline option\n",
        "taxis_df = spark.read.option(\"multiline\", \"true\").json(\"/content/drive/Othercomputers/My Laptop/NUS_GDrive/Big data/workshopData/data/BEAD_Rebu_TaxiCabs.json\")\n",
        "\n",
        "# Register the DataFrame as a temporary SQL view\n",
        "taxis_df.createOrReplaceTempView(\"taxis\")\n",
        "\n",
        "# Retrieve all Taxi data using Spark SQL and order by TaxiNumber\n",
        "all_taxis_ordered = spark.sql(\"SELECT * FROM taxis ORDER BY TaxiNumber ASC\")\n",
        "\n",
        "# Display the retrieved data\n",
        "all_taxis_ordered.show()"
      ],
      "metadata": {
        "colab": {
          "base_uri": "https://localhost:8080/"
        },
        "id": "BO4sMOI7JUsu",
        "outputId": "f94dff99-ac49-4bea-c367-88430f010bbe"
      },
      "execution_count": 11,
      "outputs": [
        {
          "output_type": "stream",
          "name": "stdout",
          "text": [
            "+--------+---------+------+--------------------+----------+---------------------+--------+\n",
            "|  TMDTID|TaxiColor|TaxiID|       TaxiMakeModel|TaxiNumber|TaxiPassengerCapacity|TaxiType|\n",
            "+--------+---------+------+--------------------+----------+---------------------+--------+\n",
            "|TMB18597|    White|    59|       Mercedes Benz|   SHX0106|                    4|Limosine|\n",
            "|TMB76389|   Yellow|   464|Hyundai Ioniq Hybrid|   SHX0278|                    4|Standard|\n",
            "|TMA22172|   Yellow|   352|Hyundai Ioniq Hybrid|   SHX0354|                    4|Standard|\n",
            "|TMB30762|     Grey|   236| Toyota Camry Hybrid|   SHX0399|                    4| Premier|\n",
            "|TMA25750|     Grey|   188| Toyota Camry Hybrid|   SHX0541|                    4| Premier|\n",
            "|TMB51371|    White|    32|       Mercedes Benz|   SHX0588|                    4|Limosine|\n",
            "|TMC74051|    Black|   378|     Toyota Vellfire|   SHX0613|                    6|Maxi Cab|\n",
            "|TMA27837|     Blue|   460|         Hyundai i40|   SHX0694|                    4|Standard|\n",
            "|TMC96842|     Blue|   247|             Kia EV6|   SHX0732|                    5| Premier|\n",
            "|TMC20008|   Yellow|   260|        Toyota Prius|   SHX0791|                    4|Standard|\n",
            "|TMA66613|   Yellow|   132|             Kia EV6|   SHX0830|                    5| Premier|\n",
            "|TMB27976|    Brown|   104|           Honda Fit|   SHX0897|                    3|Mini Cab|\n",
            "|TMC78239|   Yellow|   239|         Hyundai i40|   SHX0907|                    4|Standard|\n",
            "|TMA72574|      Red|   507|           Honda Fit|   SHX0915|                    3|Mini Cab|\n",
            "|TMA63673|      Red|   512|           Honda Fit|   SHX0915|                    3|Mini Cab|\n",
            "|TMA38948|    White|   164|       Mercedes Benz|   SHX0941|                    4|Limosine|\n",
            "|TMB11317|   Yellow|    51|        Toyota Prius|   SHX1022|                    4|Standard|\n",
            "|TMC80644|    White|   272|       Mercedes Benz|   SHX1030|                    4|Limosine|\n",
            "|TMC80617|      Red|   115|           Honda Fit|   SHX1043|                    3|Mini Cab|\n",
            "|TMA49443|     Blue|   102|      Toyota Carolla|   SHX1081|                    4|Standard|\n",
            "+--------+---------+------+--------------------+----------+---------------------+--------+\n",
            "only showing top 20 rows\n",
            "\n"
          ]
        }
      ]
    },
    {
      "cell_type": "markdown",
      "source": [
        "3. Retrieve  all  Limosine  Taxies.  You  should  display  only  the  Taxi  Number,  Taxi  Type,  and  Taxi\n",
        "Colour."
      ],
      "metadata": {
        "id": "1vzeil2YHk0p"
      }
    },
    {
      "cell_type": "code",
      "source": [
        "# Retrieve all Limosine Taxies and display specific columns using Spark SQL\n",
        "limosine_taxis = spark.sql(\"SELECT TaxiNumber, TaxiType, TaxiColor FROM taxis WHERE TaxiType = 'Limosine'\")\n",
        "\n",
        "# Display the retrieved data\n",
        "limosine_taxis.show()"
      ],
      "metadata": {
        "colab": {
          "base_uri": "https://localhost:8080/"
        },
        "id": "elvtjv2zJxOk",
        "outputId": "036a20ea-fb70-4a2e-dbba-e0c35542c945"
      },
      "execution_count": 12,
      "outputs": [
        {
          "output_type": "stream",
          "name": "stdout",
          "text": [
            "+----------+--------+---------+\n",
            "|TaxiNumber|TaxiType|TaxiColor|\n",
            "+----------+--------+---------+\n",
            "|   SHX7048|Limosine|    White|\n",
            "|   SHY9725|Limosine|    White|\n",
            "|   SHY0981|Limosine|    White|\n",
            "|   SHX0588|Limosine|    White|\n",
            "|   SHZ7647|Limosine|    White|\n",
            "|   SHX0106|Limosine|    White|\n",
            "|   SHY1153|Limosine|    White|\n",
            "|   SHY0245|Limosine|    White|\n",
            "|   SHX5521|Limosine|    White|\n",
            "|   SHZ8902|Limosine|    White|\n",
            "|   SHZ4353|Limosine|    White|\n",
            "|   SHY4481|Limosine|    White|\n",
            "|   SHZ1333|Limosine|    White|\n",
            "|   SHX4161|Limosine|    White|\n",
            "|   SHY7440|Limosine|    White|\n",
            "|   SHY6224|Limosine|    White|\n",
            "|   SHZ2957|Limosine|    White|\n",
            "|   SHY5616|Limosine|    White|\n",
            "|   SHX0941|Limosine|    White|\n",
            "|   SHY9774|Limosine|    White|\n",
            "+----------+--------+---------+\n",
            "only showing top 20 rows\n",
            "\n"
          ]
        }
      ]
    },
    {
      "cell_type": "markdown",
      "source": [
        "4. Retrieve all 4 seater Premier taxis."
      ],
      "metadata": {
        "id": "BZCikB1tHnEy"
      }
    },
    {
      "cell_type": "code",
      "execution_count": 13,
      "metadata": {
        "colab": {
          "base_uri": "https://localhost:8080/"
        },
        "id": "b7Boo2PmHOMC",
        "outputId": "e540a7f4-df05-48c7-efa0-b42d3959f07b"
      },
      "outputs": [
        {
          "output_type": "stream",
          "name": "stdout",
          "text": [
            "+--------+---------+------+-------------------+----------+---------------------+--------+\n",
            "|  TMDTID|TaxiColor|TaxiID|      TaxiMakeModel|TaxiNumber|TaxiPassengerCapacity|TaxiType|\n",
            "+--------+---------+------+-------------------+----------+---------------------+--------+\n",
            "|TMB02825|   Silver|     4|Toyota Camry Hybrid|   SHX4872|                    4| Premier|\n",
            "|TMB67907|   Silver|    16|Toyota Camry Hybrid|   SHY9209|                    4| Premier|\n",
            "|TMC66738|     Grey|    18|Toyota Camry Hybrid|   SHY2915|                    4| Premier|\n",
            "|TMC10802|     Grey|    23|Toyota Camry Hybrid|   SHY9485|                    4| Premier|\n",
            "|TMA12261|     Grey|    37|Toyota Camry Hybrid|   SHY7838|                    4| Premier|\n",
            "|TMA41233|   Silver|    43|Toyota Camry Hybrid|   SHX5153|                    4| Premier|\n",
            "|TMA79747|     Grey|    57|Toyota Camry Hybrid|   SHY3876|                    4| Premier|\n",
            "|TMB16199|   Silver|    60|Toyota Camry Hybrid|   SHZ3746|                    4| Premier|\n",
            "|TMC67061|   Silver|    84|Toyota Camry Hybrid|   SHX4335|                    4| Premier|\n",
            "|TMA22969|     Grey|    98|Toyota Camry Hybrid|   SHY2548|                    4| Premier|\n",
            "|TMA98590|   Silver|   108|Toyota Camry Hybrid|   SHX7074|                    4| Premier|\n",
            "|TMB35280|     Grey|   149|Toyota Camry Hybrid|   SHZ7300|                    4| Premier|\n",
            "|TMB49478|   Silver|   152|Toyota Camry Hybrid|   SHY8172|                    4| Premier|\n",
            "|TMC46427|   Silver|   167|Toyota Camry Hybrid|   SHY4629|                    4| Premier|\n",
            "|TMC70256|   Silver|   174|Toyota Camry Hybrid|   SHY4078|                    4| Premier|\n",
            "|TMA25750|     Grey|   188|Toyota Camry Hybrid|   SHX0541|                    4| Premier|\n",
            "|TMA29795|   Silver|   199|Toyota Camry Hybrid|   SHX6044|                    4| Premier|\n",
            "|TMA38700|   Silver|   228|Toyota Camry Hybrid|   SHY2306|                    4| Premier|\n",
            "|TMB30762|     Grey|   236|Toyota Camry Hybrid|   SHX0399|                    4| Premier|\n",
            "|TMB53278|     Grey|   241|Toyota Camry Hybrid|   SHY6935|                    4| Premier|\n",
            "+--------+---------+------+-------------------+----------+---------------------+--------+\n",
            "only showing top 20 rows\n",
            "\n"
          ]
        }
      ],
      "source": [
        "# Retrieve all 4 seater Premier taxis using Spark SQL\n",
        "premier_4seater_taxis = spark.sql(\"SELECT * FROM taxis WHERE TaxiType = 'Premier' AND TaxiPassengerCapacity = 4\")\n",
        "\n",
        "# Display the retrieved data\n",
        "premier_4seater_taxis.show()"
      ]
    },
    {
      "cell_type": "markdown",
      "source": [
        "B. Aggregation and Statistical Queries (use BEAD_Rebu_TripData.CSV)"
      ],
      "metadata": {
        "id": "Zv9pNQFqLYsF"
      }
    },
    {
      "cell_type": "markdown",
      "source": [
        "5. Determine the average distance per trip based on ALL trips in the month of January 2024."
      ],
      "metadata": {
        "id": "vASWFIXCLfTA"
      }
    },
    {
      "cell_type": "code",
      "source": [
        "# Load the TripData.CSV file into a Spark DataFrame\n",
        "tripdata_df = spark.read.csv(\"/content/drive/Othercomputers/My Laptop/NUS_GDrive/Big data/workshopData/data/BEAD_Rebu_TripData.csv\", header=True, inferSchema=True)\n",
        "\n",
        "# Display schema and some rows of the original DataFrame to check date format and column values\n",
        "print(\"Original DataFrame Schema:\")\n",
        "tripdata_df.printSchema()\n",
        "print(\"Original DataFrame Head:\")\n",
        "tripdata_df.show(5)\n",
        "\n",
        "# Filter for trips in January 2024\n",
        "january_trips_df = tripdata_df.filter(\"Date LIKE '%-Jan-24'\")\n",
        "\n",
        "# Show the filtered data and count the rows to see if any data is selected\n",
        "print(\"Filtered DataFrame for January 2024:\")\n",
        "january_trips_df.show()\n",
        "print(f\"Number of trips in January 2024: {january_trips_df.count()}\")\n",
        "\n",
        "\n",
        "# Calculate the average distance for January trips\n",
        "average_distance_january = january_trips_df.agg({\"Distance Travelled\": \"avg\"}).collect()[0][0]\n",
        "\n",
        "# Display the average distance\n",
        "print(f\"The average distance per trip in January 2024 is: {average_distance_january}\")"
      ],
      "metadata": {
        "colab": {
          "base_uri": "https://localhost:8080/"
        },
        "id": "bvHxO9eoLhqU",
        "outputId": "cf4377c1-eabf-4824-c16e-652b2b45a07a"
      },
      "execution_count": 17,
      "outputs": [
        {
          "output_type": "stream",
          "name": "stdout",
          "text": [
            "Original DataFrame Schema:\n",
            "root\n",
            " |-- Sno: integer (nullable = true)\n",
            " |-- Date: string (nullable = true)\n",
            " |-- Day: string (nullable = true)\n",
            " |-- Hour of Day: integer (nullable = true)\n",
            " |-- Trip Start Time HHMM: timestamp (nullable = true)\n",
            " |-- Pickup District: string (nullable = true)\n",
            " |--  DropOff District: string (nullable = true)\n",
            " |-- Distance Travelled: double (nullable = true)\n",
            " |-- Trip Duration in Seconds: integer (nullable = true)\n",
            " |-- Trip End Time: timestamp (nullable = true)\n",
            " |-- Taxi Number: string (nullable = true)\n",
            " |-- Taxi Type: string (nullable = true)\n",
            " |-- Taxi Capacity: integer (nullable = true)\n",
            " |-- Number Of Passengers: integer (nullable = true)\n",
            " |-- Trip Fare: double (nullable = true)\n",
            " |-- Passenger ID: integer (nullable = true)\n",
            " |-- Passenger Name: string (nullable = true)\n",
            "\n",
            "Original DataFrame Head:\n",
            "+---+--------+---+-----------+--------------------+---------------+-----------------+------------------+------------------------+-------------------+-----------+---------+-------------+--------------------+---------+------------+--------------+\n",
            "|Sno|    Date|Day|Hour of Day|Trip Start Time HHMM|Pickup District| DropOff District|Distance Travelled|Trip Duration in Seconds|      Trip End Time|Taxi Number|Taxi Type|Taxi Capacity|Number Of Passengers|Trip Fare|Passenger ID|Passenger Name|\n",
            "+---+--------+---+-----------+--------------------+---------------+-----------------+------------------+------------------------+-------------------+-----------+---------+-------------+--------------------+---------+------------+--------------+\n",
            "|  1|1-Jan-24|Mon|          0| 2025-09-01 00:01:00|      Kew Drive|         Clementi|              25.1|                    3001|2025-09-01 01:50:00|    SHY6685| Standard|            4|                   2|    49.91|       11841|     Ellen Han|\n",
            "|  2|1-Jan-24|Mon|          0| 2025-09-01 00:01:00|         Marina|    Clementi Park|              12.8|                    1671|2025-09-01 00:29:00|    SHY1488| Mini Cab|            3|                   3|    28.17|       10126|  Matthew Feng|\n",
            "|  3|1-Jan-24|Mon|          0| 2025-09-01 00:02:00|         Bishan|      Hume Avenue|              19.8|                    3332|2025-09-01 01:57:00|    SHX0354| Standard|            4|                   1|    44.67|       11259|      Agnes Bi|\n",
            "|  4|1-Jan-24|Mon|          0| 2025-09-01 00:05:00|    Suntec City| Upper East Coast|              16.8|                    2904|2025-09-01 01:52:00|    SHZ0338| Mini Cab|            3|                   1|    37.54|       10710|   Harry Huang|\n",
            "|  5|1-Jan-24|Mon|          0| 2025-09-01 00:06:00|      Chinatown|          Geylang|              17.6|                    2413|2025-09-01 01:45:00|    SHY5827| Mini Cab|            4|                   3|    34.62|       11250|  Frederick Ke|\n",
            "+---+--------+---+-----------+--------------------+---------------+-----------------+------------------+------------------------+-------------------+-----------+---------+-------------+--------------------+---------+------------+--------------+\n",
            "only showing top 5 rows\n",
            "\n",
            "Filtered DataFrame for January 2024:\n",
            "+---+--------+---+-----------+--------------------+-----------------+-----------------+------------------+------------------------+-------------------+-----------+---------+-------------+--------------------+---------+------------+--------------+\n",
            "|Sno|    Date|Day|Hour of Day|Trip Start Time HHMM|  Pickup District| DropOff District|Distance Travelled|Trip Duration in Seconds|      Trip End Time|Taxi Number|Taxi Type|Taxi Capacity|Number Of Passengers|Trip Fare|Passenger ID|Passenger Name|\n",
            "+---+--------+---+-----------+--------------------+-----------------+-----------------+------------------+------------------------+-------------------+-----------+---------+-------------+--------------------+---------+------------+--------------+\n",
            "|  1|1-Jan-24|Mon|          0| 2025-09-01 00:01:00|        Kew Drive|         Clementi|              25.1|                    3001|2025-09-01 01:50:00|    SHY6685| Standard|            4|                   2|    49.91|       11841|     Ellen Han|\n",
            "|  2|1-Jan-24|Mon|          0| 2025-09-01 00:01:00|           Marina|    Clementi Park|              12.8|                    1671|2025-09-01 00:29:00|    SHY1488| Mini Cab|            3|                   3|    28.17|       10126|  Matthew Feng|\n",
            "|  3|1-Jan-24|Mon|          0| 2025-09-01 00:02:00|           Bishan|      Hume Avenue|              19.8|                    3332|2025-09-01 01:57:00|    SHX0354| Standard|            4|                   1|    44.67|       11259|      Agnes Bi|\n",
            "|  4|1-Jan-24|Mon|          0| 2025-09-01 00:05:00|      Suntec City| Upper East Coast|              16.8|                    2904|2025-09-01 01:52:00|    SHZ0338| Mini Cab|            3|                   1|    37.54|       10710|   Harry Huang|\n",
            "|  5|1-Jan-24|Mon|          0| 2025-09-01 00:06:00|        Chinatown|          Geylang|              17.6|                    2413|2025-09-01 01:45:00|    SHY5827| Mini Cab|            4|                   3|    34.62|       11250|  Frederick Ke|\n",
            "|  6|1-Jan-24|Mon|          0| 2025-09-01 00:08:00|   Admiralty Road|      High Street|              13.6|                    1812|2025-09-01 01:37:00|    SHX4463|  Premier|            4|                   4|    28.71|       12313|    George Guo|\n",
            "|  7|1-Jan-24|Mon|          0| 2025-09-01 00:08:00|       Macpherson|   Admiralty Road|               2.3|                     507|2025-09-01 00:16:00|    SHX7806| Maxi Cab|            7|                   7|     8.11|       11347|     Ethel Man|\n",
            "|  8|1-Jan-24|Mon|          0| 2025-09-01 00:09:00|      Middle Road|Orchard Boulevard|               4.9|                     845|2025-09-01 00:23:00|    SHY1409| Standard|            4|                   1|    12.43|       11178|   Judith Gong|\n",
            "|  9|1-Jan-24|Mon|          0| 2025-09-01 00:09:00|       East Coast|         Hillview|              29.5|                    3740|2025-09-01 01:10:00|    SHX7554| Standard|            4|                   2|    55.69|       11554|     Ruby Ling|\n",
            "| 10|1-Jan-24|Mon|          0| 2025-09-01 00:09:00|North Bridge Road|      Middle Road|               2.1|                     489|2025-09-01 00:17:00|    SHY6024| Standard|            4|                   1|     7.74|       12225|     Derek Cha|\n",
            "| 11|1-Jan-24|Mon|          0| 2025-09-01 00:09:00|        Pasir Ris|          Seletar|               9.9|                    1097|2025-09-01 00:28:00|    SHX2773| Standard|            4|                   1|    24.69|       10667|   Kelly Chang|\n",
            "| 12|1-Jan-24|Mon|          0| 2025-09-01 00:10:00|            Bedok|           Marina|              18.0|                    2739|2025-09-01 01:55:00|    SHY0615| Standard|            4|                   3|    42.85|       10937|    Iris Zhang|\n",
            "| 13|1-Jan-24|Mon|          0| 2025-09-01 00:10:00|   Admiralty Road|       Queenstown|               8.7|                    1332|2025-09-01 01:32:00|    SHY7111| Standard|            4|                   1|    20.52|       10578|     Jane Heng|\n",
            "| 14|1-Jan-24|Mon|          0| 2025-09-01 00:11:00|      Paya Lebar |    Clementi Park|              22.3|                    3267|2025-09-01 01:05:00|    SHY9805| Mini Cab|            3|                   2|     43.0|       10501|     Alan Weng|\n",
            "| 15|1-Jan-24|Mon|          0| 2025-09-01 00:12:00|     Harbourfront|    Sungei Gedong|              19.3|                    2668|2025-09-01 01:56:00|    SHX7757| Maxi Cab|            6|                   3|    38.23|       10146|  Sai Merchant|\n",
            "| 16|1-Jan-24|Mon|          0| 2025-09-01 00:12:00|          Seletar|           Keppel|               5.2|                     957|2025-09-01 00:28:00|    SHY4520|  Premier|            4|                   2|    14.47|       12074|    Melissa Wu|\n",
            "| 17|1-Jan-24|Mon|          0| 2025-09-01 00:14:00|      Shenton Way|      Bouna Vista|               5.9|                     942|2025-09-01 00:29:00|    SHY9111| Standard|            4|                   4|    14.53|       11260|     Louis Tai|\n",
            "| 18|1-Jan-24|Mon|          0| 2025-09-01 00:14:00|      Tanjong Rhu|           Jurong|              25.9|                    3261|2025-09-01 01:08:00|    SHZ9323| Maxi Cab|            7|                   6|    54.62|       12139|     Sydney Ke|\n",
            "| 19|1-Jan-24|Mon|          0| 2025-09-01 00:16:00|             Sims|           Katong|               3.4|                     583|2025-09-01 00:26:00|    SHZ6559| Mini Cab|            4|                   2|    10.04|       11583|   Parin Dubey|\n",
            "| 20|1-Jan-24|Mon|          0| 2025-09-01 00:22:00| Upper East Coast|           Yishun|               5.6|                     902|2025-09-01 01:36:00|    SHX9762| Standard|            4|                   4|    15.29|       10885|   Rosina Teng|\n",
            "+---+--------+---+-----------+--------------------+-----------------+-----------------+------------------+------------------------+-------------------+-----------+---------+-------------+--------------------+---------+------------+--------------+\n",
            "only showing top 20 rows\n",
            "\n",
            "Number of trips in January 2024: 49608\n",
            "The average distance per trip in January 2024 is: 11.902674971778234\n"
          ]
        }
      ]
    },
    {
      "cell_type": "markdown",
      "source": [
        "6. Find the total fares collected grouped by Taxi Type Maxi Cab"
      ],
      "metadata": {
        "id": "xDK2GnoILg_U"
      }
    },
    {
      "cell_type": "code",
      "source": [
        "# Find the total fares collected for Maxi Cab taxi type using Spark SQL\n",
        "total_maxi_cab_fares = tripdata_df.filter(\"`Taxi Type` = 'Maxi Cab'\").agg({\"Trip Fare\": \"sum\"}).collect()[0][0]\n",
        "\n",
        "# Display the total fares\n",
        "print(f\"The total fares collected for Maxi Cab taxi types is: {total_maxi_cab_fares}\")"
      ],
      "metadata": {
        "colab": {
          "base_uri": "https://localhost:8080/"
        },
        "id": "fzeXVvVOMFy4",
        "outputId": "755ab490-101d-4272-8827-b4b34a6cf47d"
      },
      "execution_count": 18,
      "outputs": [
        {
          "output_type": "stream",
          "name": "stdout",
          "text": [
            "The total fares collected for Maxi Cab taxi types is: 124899.21999999954\n"
          ]
        }
      ]
    },
    {
      "cell_type": "markdown",
      "source": [
        "C. Analytics Questions"
      ],
      "metadata": {
        "id": "cbS0DYG_MR1-"
      }
    },
    {
      "cell_type": "markdown",
      "source": [
        "7. Determine  the  Average  Occupancy  i.e.,  (Number  of  Passengers  /  Passenger  Capacity)  for\n",
        "Standard Taxis."
      ],
      "metadata": {
        "id": "MFzC3G-xMT3P"
      }
    },
    {
      "cell_type": "code",
      "source": [
        "from pyspark.sql.functions import col\n",
        "\n",
        "# Filter for Standard Taxis\n",
        "standard_taxis_df = tripdata_df.filter(\"`Taxi Type` = 'Standard'\")\n",
        "\n",
        "# Calculate the occupancy for each trip and then the average occupancy\n",
        "average_occupancy_standard = standard_taxis_df.withColumn(\n",
        "    \"Occupancy\", col(\"Number Of Passengers\") / col(\"Taxi Capacity\")\n",
        ").agg({\"Occupancy\": \"avg\"}).collect()[0][0]\n",
        "\n",
        "# Display the average occupancy\n",
        "print(f\"The average occupancy for Standard Taxis is: {average_occupancy_standard}\")"
      ],
      "metadata": {
        "colab": {
          "base_uri": "https://localhost:8080/"
        },
        "id": "pt2w50LwMUau",
        "outputId": "273c663a-f63e-4c54-a5b1-9c028db95f7f"
      },
      "execution_count": 19,
      "outputs": [
        {
          "output_type": "stream",
          "name": "stdout",
          "text": [
            "The average occupancy for Standard Taxis is: 0.5380241501943595\n"
          ]
        }
      ]
    },
    {
      "cell_type": "markdown",
      "source": [
        "8. Determine  Fares  Collected  by  Day  of  the  Week  (ie.,  Sun,  Mon,  Tue)  for  the  month  of  Jan\n",
        "2024."
      ],
      "metadata": {
        "id": "tL3zcIOtMU-6"
      }
    },
    {
      "cell_type": "code",
      "source": [
        "from pyspark.sql.functions import sum\n",
        "\n",
        "# Filter for trips in January 2024\n",
        "january_trips_df = tripdata_df.filter(\"Date LIKE '%-Jan-24'\")\n",
        "\n",
        "# Group by Day and calculate the sum of Trip Fare\n",
        "fares_by_day = january_trips_df.groupBy(\"Day\").agg(sum(\"Trip Fare\").alias(\"TotalFares\"))\n",
        "\n",
        "# Order by a specific order of days (optional, for better readability)\n",
        "from pyspark.sql.functions import when\n",
        "\n",
        "day_order = [\"Mon\", \"Tue\", \"Wed\", \"Thu\", \"Fri\", \"Sat\", \"Sun\"]\n",
        "fares_by_day_ordered = fares_by_day.orderBy(when(col(\"Day\") == day_order[0], 1).when(col(\"Day\") == day_order[1], 2).when(col(\"Day\") == day_order[2], 3).when(col(\"Day\") == day_order[3], 4).when(col(\"Day\") == day_order[4], 5).when(col(\"Day\") == day_order[5], 6).otherwise(7))\n",
        "\n",
        "# Display the total fares by day\n",
        "fares_by_day_ordered.show()"
      ],
      "metadata": {
        "colab": {
          "base_uri": "https://localhost:8080/"
        },
        "id": "dXtka3dMMiLI",
        "outputId": "1c080511-3b5f-447a-ee44-7cd48f85a1ba"
      },
      "execution_count": 20,
      "outputs": [
        {
          "output_type": "stream",
          "name": "stdout",
          "text": [
            "+---+------------------+\n",
            "|Day|        TotalFares|\n",
            "+---+------------------+\n",
            "|Mon| 214250.2599999994|\n",
            "|Tue|210078.47999999952|\n",
            "|Wed|205085.19999999984|\n",
            "|Thu| 173608.9599999996|\n",
            "|Fri| 156416.1700000004|\n",
            "|Sat|107823.31000000001|\n",
            "|Sun|110995.21000000022|\n",
            "+---+------------------+\n",
            "\n"
          ]
        }
      ]
    },
    {
      "cell_type": "markdown",
      "source": [
        "9. Prepare a Tabulation report showing total revenue against the two dimensions Hour of the\n",
        "day AND Day of the Week."
      ],
      "metadata": {
        "id": "RwL-3eogMZHX"
      }
    },
    {
      "cell_type": "code",
      "source": [
        "from pyspark.sql.functions import sum\n",
        "\n",
        "# Group by Day and Hour of Day and calculate the sum of Trip Fare\n",
        "revenue_by_day_hour = tripdata_df.groupBy(\"Day\", \"`Hour of Day`\").agg(sum(\"Trip Fare\").alias(\"TotalRevenue\"))\n",
        "\n",
        "# Pivot the table to show Day of the Week as rows and Hour of Day as columns\n",
        "revenue_pivot = revenue_by_day_hour.groupBy(\"Day\").pivot(\"`Hour of Day`\").sum(\"TotalRevenue\")\n",
        "\n",
        "# Order by a specific order of days (optional, for better readability)\n",
        "from pyspark.sql.functions import when\n",
        "\n",
        "day_order = [\"Mon\", \"Tue\", \"Wed\", \"Thu\", \"Fri\", \"Sat\", \"Sun\"]\n",
        "revenue_pivot_ordered = revenue_pivot.orderBy(when(col(\"Day\") == day_order[0], 1).when(col(\"Day\") == day_order[1], 2).when(col(\"Day\") == day_order[2], 3).when(col(\"Day\") == day_order[3], 4).when(col(\"Day\") == day_order[4], 5).when(col(\"Day\") == day_order[5], 6).otherwise(7))\n",
        "\n",
        "\n",
        "# Display the tabulation report\n",
        "revenue_pivot_ordered.show()"
      ],
      "metadata": {
        "colab": {
          "base_uri": "https://localhost:8080/"
        },
        "id": "sk8Rh5nhMyBB",
        "outputId": "7d50ea29-122f-4588-c54b-2e3f85f95407"
      },
      "execution_count": 21,
      "outputs": [
        {
          "output_type": "stream",
          "name": "stdout",
          "text": [
            "+---+------------------+------------------+------------------+------------------+------------------+------------------+------------------+------------------+------------------+------------------+------------------+------------------+------------------+------------------+------------------+------------------+------------------+------------------+------------------+------------------+------------------+------------------+-----------------+------------------+\n",
            "|Day|                 0|                 1|                 2|                 3|                 4|                 5|                 6|                 7|                 8|                 9|                10|                11|                12|                13|                14|                15|                16|                17|                18|                19|                20|                21|               22|                23|\n",
            "+---+------------------+------------------+------------------+------------------+------------------+------------------+------------------+------------------+------------------+------------------+------------------+------------------+------------------+------------------+------------------+------------------+------------------+------------------+------------------+------------------+------------------+------------------+-----------------+------------------+\n",
            "|Mon|           2727.88| 4974.420000000001| 5251.459999999998| 4430.079999999999| 4517.350000000003| 5346.120000000001| 9869.130000000006|19267.159999999996|22737.860000000033|17801.020000000008|  9182.48999999999| 5104.569999999999| 3962.850000000003| 5592.519999999997| 4787.510000000003| 4519.660000000001| 6532.920000000003|11470.900000000003|14676.440000000004|14082.660000000007|12727.109999999999|11704.569999999998|8263.549999999996| 4720.030000000001|\n",
            "|Tue|2502.9100000000003| 5010.670000000001|4842.0999999999985| 4554.550000000001| 5121.709999999998| 4879.919999999999|          10210.68|19550.570000000003|23136.649999999987|17894.880000000016| 9556.670000000007|4419.5599999999995| 5848.919999999996| 4606.700000000001|4921.5999999999985| 4990.619999999998| 6665.639999999999|10603.840000000006|13111.490000000005| 13720.80999999999|          11947.56| 9897.330000000002|7859.999999999998| 4223.100000000001|\n",
            "|Wed|           2452.29| 4296.629999999999| 3834.989999999999| 4323.279999999998| 4148.080000000001| 4848.519999999999| 9720.219999999996|17407.550000000017| 21679.83000000001|16006.019999999984| 7901.750000000002|4708.0599999999995| 4917.960000000001|           5198.82| 4438.419999999998|           4998.28| 6010.029999999998|10979.179999999997|14223.480000000003|14913.900000000001|          13187.12|11713.539999999997|8450.830000000002| 4726.420000000002|\n",
            "|Thu|2162.7800000000007| 4838.880000000002| 4724.799999999999| 5230.980000000002| 4277.799999999999|           4232.19|          10169.93|          18911.14|19026.589999999997|          12782.89| 6813.269999999999| 3124.699999999999|3651.0599999999986|           3510.75|           3421.24|3508.9699999999993|           4267.18| 8987.449999999999|10153.460000000005|10294.830000000004|10860.779999999999| 8287.890000000001|6687.150000000004|3682.2499999999995|\n",
            "|Fri|1612.2700000000004|3671.1499999999996|3178.7700000000013|3579.1800000000003|3320.8999999999987|4062.1999999999994| 7297.149999999999|13450.509999999995| 16741.48000000001|13135.699999999986|6410.5599999999995|3488.0800000000004|3998.9599999999996| 3540.750000000002| 3601.960000000001| 3704.180000000002| 4573.500000000001| 7684.279999999995|10496.860000000006|10639.179999999997| 9901.840000000004| 8617.710000000001|6466.240000000003|3242.7600000000007|\n",
            "|Sat|           1698.53|3109.3600000000006|           2797.83| 2995.920000000001|2323.9799999999996|2860.4600000000023| 3035.159999999999| 5658.960000000001| 5906.219999999998|           5576.45|            2889.9| 2703.609999999999|2606.2800000000007|2072.2100000000005|            1776.1|2378.9900000000002|3875.6899999999987| 6325.459999999999| 9054.640000000001|           8673.83| 8395.759999999997| 9996.570000000005|7455.490000000004|           3655.91|\n",
            "|Sun|1251.2800000000002| 3028.100000000001|            3246.2|           3100.96|3497.9299999999994|3364.6400000000012|3192.7799999999993| 4590.029999999999|6739.0000000000055| 5145.920000000003|           3044.97|2718.6000000000013| 2636.359999999999|           2501.62| 2159.400000000001|2365.9300000000003|3294.1599999999985| 6574.620000000005| 9317.110000000002| 9920.189999999995| 9716.950000000008|  9393.72000000001|6458.329999999997|3736.4099999999994|\n",
            "+---+------------------+------------------+------------------+------------------+------------------+------------------+------------------+------------------+------------------+------------------+------------------+------------------+------------------+------------------+------------------+------------------+------------------+------------------+------------------+------------------+------------------+------------------+-----------------+------------------+\n",
            "\n"
          ]
        }
      ]
    },
    {
      "cell_type": "markdown",
      "source": [
        "10.  Compare the total number of trips per day made by all taxis in weekends vs the total number\n",
        "of trips made per day during weekdays in the month of Jan 2024."
      ],
      "metadata": {
        "id": "jaKEJeRCMaAL"
      }
    },
    {
      "cell_type": "code",
      "source": [
        "from pyspark.sql.functions import col, count, when\n",
        "\n",
        "# Filter for trips in January 2024\n",
        "january_trips_df = tripdata_df.filter(\"Date LIKE '%-Jan-24'\")\n",
        "\n",
        "# Categorize days as Weekend or Weekday\n",
        "trips_with_day_type = january_trips_df.withColumn(\n",
        "    \"DayType\",\n",
        "    when(col(\"Day\").isin([\"Sat\", \"Sun\"]), \"Weekend\").otherwise(\"Weekday\")\n",
        ")\n",
        "\n",
        "# Group by DayType and count the trips\n",
        "trip_counts_by_day_type = trips_with_day_type.groupBy(\"DayType\").agg(count(\"*\").alias(\"TotalTrips\"))\n",
        "\n",
        "# Display the comparison\n",
        "trip_counts_by_day_type.show()"
      ],
      "metadata": {
        "colab": {
          "base_uri": "https://localhost:8080/"
        },
        "id": "MznNltFyM43U",
        "outputId": "27e52081-46c0-4d81-a039-0774d34a5d5c"
      },
      "execution_count": 22,
      "outputs": [
        {
          "output_type": "stream",
          "name": "stdout",
          "text": [
            "+-------+----------+\n",
            "|DayType|TotalTrips|\n",
            "+-------+----------+\n",
            "|Weekday|     40328|\n",
            "|Weekend|      9280|\n",
            "+-------+----------+\n",
            "\n"
          ]
        }
      ]
    },
    {
      "cell_type": "markdown",
      "source": [
        "D. Multiple Entities Joining and multiple formats joined in a DataFrame"
      ],
      "metadata": {
        "id": "N-L5VtHnNAvJ"
      }
    },
    {
      "cell_type": "markdown",
      "source": [
        "11.  Determine the total fares paid by all Gold Status Passengers in the month of Jan 2024. What\n",
        "percentage does this make from the total fares for all customers in month of Jan 2024."
      ],
      "metadata": {
        "id": "YbkpH8i7NBed"
      }
    },
    {
      "cell_type": "code",
      "source": [
        "from pyspark.sql.functions import sum, col\n",
        "\n",
        "# Load the Passengers.CSV file into a Spark DataFrame\n",
        "passengers_df = spark.read.csv(\"/content/drive/Othercomputers/My Laptop/NUS_GDrive/Big data/workshopData/data/BEAD_Rebu_Passengers.csv\", header=True, inferSchema=True)\n",
        "\n",
        "# Join tripdata_df with passengers_df on Passenger ID\n",
        "# Assuming the Passenger ID column in passengers_df is named 'Passenger ID'\n",
        "joined_df = tripdata_df.join(passengers_df, on=(tripdata_df[\"Passenger ID\"] == passengers_df[\"PassengerID\"]), how=\"inner\")\n",
        "\n",
        "\n",
        "# Filter for trips in January 2024 and Gold Status Passengers\n",
        "gold_january_trips_df = joined_df.filter(\"Date LIKE '%-Jan-24' AND `MemberStatus` = 'Gold'\")\n",
        "\n",
        "# Calculate the total fares for Gold Status Passengers in January 2024\n",
        "total_gold_fares_january = gold_january_trips_df.agg(sum(\"Trip Fare\").alias(\"TotalGoldFares\")).collect()[0][0]\n",
        "\n",
        "# Filter for all trips in January 2024 to calculate total fares for all customers\n",
        "all_january_trips_df = tripdata_df.filter(\"Date LIKE '%-Jan-24'\")\n",
        "\n",
        "# Calculate the total fares for all customers in January 2024\n",
        "total_all_fares_january = all_january_trips_df.agg(sum(\"Trip Fare\").alias(\"TotalAllFares\")).collect()[0][0]\n",
        "\n",
        "# Calculate the percentage\n",
        "percentage_gold_fares = (total_gold_fares_january / total_all_fares_january) * 100 if total_all_fares_january is not None and total_all_fares_january != 0 else 0\n",
        "\n",
        "# Display the results\n",
        "print(f\"Total fares paid by Gold Status Passengers in January 2024: {total_gold_fares_january}\")\n",
        "print(f\"Total fares for all customers in January 2024: {total_all_fares_january}\")\n",
        "print(f\"Percentage of total fares by Gold Status Passengers in January 2024: {percentage_gold_fares:.2f}%\")"
      ],
      "metadata": {
        "colab": {
          "base_uri": "https://localhost:8080/"
        },
        "id": "MdZXuhJqNDp7",
        "outputId": "c5632fe7-a4b2-47c1-df8e-e303251e3a23"
      },
      "execution_count": 24,
      "outputs": [
        {
          "output_type": "stream",
          "name": "stdout",
          "text": [
            "Total fares paid by Gold Status Passengers in January 2024: 326794.3900000003\n",
            "Total fares for all customers in January 2024: 1178257.590000008\n",
            "Percentage of total fares by Gold Status Passengers in January 2024: 27.74%\n"
          ]
        }
      ]
    }
  ]
}