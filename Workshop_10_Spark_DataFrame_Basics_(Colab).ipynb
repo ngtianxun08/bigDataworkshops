{
  "nbformat": 4,
  "nbformat_minor": 0,
  "metadata": {
    "colab": {
      "provenance": [],
      "authorship_tag": "ABX9TyMTYK16+ZhEeSgwAf43Leat",
      "include_colab_link": true
    },
    "kernelspec": {
      "name": "python3",
      "display_name": "Python 3"
    },
    "language_info": {
      "name": "python"
    }
  },
  "cells": [
    {
      "cell_type": "markdown",
      "metadata": {
        "id": "view-in-github",
        "colab_type": "text"
      },
      "source": [
        "<a href=\"https://colab.research.google.com/github/ngtianxun08/bigDataworkshops/blob/main/Workshop_10_Spark_DataFrame_Basics_(Colab).ipynb\" target=\"_parent\"><img src=\"https://colab.research.google.com/assets/colab-badge.svg\" alt=\"Open In Colab\"/></a>"
      ]
    },
    {
      "cell_type": "code",
      "metadata": {
        "colab": {
          "base_uri": "https://localhost:8080/"
        },
        "id": "fcd8eda9",
        "outputId": "13f9047a-309e-4804-9ec5-aa3dd2f2e421"
      },
      "source": [
        "# a) What is 8 to the power 4?\n",
        "print(8**4)"
      ],
      "execution_count": 5,
      "outputs": [
        {
          "output_type": "stream",
          "name": "stdout",
          "text": [
            "4096\n"
          ]
        }
      ]
    },
    {
      "cell_type": "code",
      "metadata": {
        "colab": {
          "base_uri": "https://localhost:8080/"
        },
        "id": "35365749",
        "outputId": "4eb2dc1d-2efc-40e3-dc11-a5247f0a12a4"
      },
      "source": [
        "# b) Split this string “Split this string”\n",
        "print(\"Split this string\".split())"
      ],
      "execution_count": 6,
      "outputs": [
        {
          "output_type": "stream",
          "name": "stdout",
          "text": [
            "['Split', 'this', 'string']\n"
          ]
        }
      ]
    },
    {
      "cell_type": "code",
      "metadata": {
        "colab": {
          "base_uri": "https://localhost:8080/"
        },
        "id": "e0f62a0b",
        "outputId": "aba61750-772a-4bb7-9b76-11336800f01d"
      },
      "source": [
        "# c) Given the variables: planet = “Earth”, diameter = 12742, use .format() to print the following string “The diameter of Earth is 12742 kilometers.”\n",
        "planet = \"Earth\"\n",
        "diameter = 12742\n",
        "print(\"The diameter of {} is {} kilometers.\".format(planet, diameter))"
      ],
      "execution_count": 7,
      "outputs": [
        {
          "output_type": "stream",
          "name": "stdout",
          "text": [
            "The diameter of Earth is 12742 kilometers.\n"
          ]
        }
      ]
    },
    {
      "cell_type": "code",
      "metadata": {
        "colab": {
          "base_uri": "https://localhost:8080/"
        },
        "id": "1ea2a3f5",
        "outputId": "5e847ace-a1e0-4669-c16b-819604ec17b8"
      },
      "source": [
        "# d) Given the name list, use indexing to grab word “target”, the_list = [1,2,[3,4],[5,[100,200,['target']],23,11],1,7]\n",
        "the_list = [1,2,[3,4],[5,[100,200,['target']],23,11],1,7]\n",
        "print(the_list[3][1][2][0])"
      ],
      "execution_count": 8,
      "outputs": [
        {
          "output_type": "stream",
          "name": "stdout",
          "text": [
            "target\n"
          ]
        }
      ]
    },
    {
      "cell_type": "code",
      "metadata": {
        "colab": {
          "base_uri": "https://localhost:8080/"
        },
        "id": "11563bdf",
        "outputId": "0c36ec26-16ec-44de-b969-b723b835a30b"
      },
      "source": [
        "# e) Given this nest dictionary grab the work “hello”. The_dic = {'k1':[1,2,3,{'tricky':['oh','man','inception',{'target':[1,2,3,'hello']}]}]}\n",
        "The_dic = {'k1':[1,2,3,{'tricky':['oh','man','inception',{'target':[1,2,3,'hello']}]}]}\n",
        "print(The_dic['k1'][3]['tricky'][3]['target'][3])"
      ],
      "execution_count": 9,
      "outputs": [
        {
          "output_type": "stream",
          "name": "stdout",
          "text": [
            "hello\n"
          ]
        }
      ]
    },
    {
      "cell_type": "code",
      "metadata": {
        "colab": {
          "base_uri": "https://localhost:8080/"
        },
        "id": "5dae6833",
        "outputId": "3c07169d-b13c-4ae2-bdf0-be532be163d9"
      },
      "source": [
        "# f) Create a basic function that returns True if the word 'elephant' is contained in the input string.\n",
        "# Don't worry about edge cases like a punctuation being attached to the word dog, but do account for capitalization.\n",
        "def has_elephant(input_string):\n",
        "  \"\"\"Checks if the word 'elephant' is in the input string (case-insensitive).\"\"\"\n",
        "  return 'elephant' in input_string.lower()\n",
        "\n",
        "# Example usage:\n",
        "print(has_elephant(\"This string contains an Elephant.\"))\n",
        "print(has_elephant(\"No elephants here.\"))"
      ],
      "execution_count": 10,
      "outputs": [
        {
          "output_type": "stream",
          "name": "stdout",
          "text": [
            "True\n",
            "True\n"
          ]
        }
      ]
    },
    {
      "cell_type": "code",
      "metadata": {
        "colab": {
          "base_uri": "https://localhost:8080/"
        },
        "id": "917474ef",
        "outputId": "39ed5fc8-c685-4a8b-f537-4a5b6563cbb1"
      },
      "source": [
        "# g) Create a function that counts the number of times the word \"elephant\" occurs in a string.\n",
        "# Again ignore edge cases.\n",
        "def count_elephants(input_string):\n",
        "  \"\"\"Counts the number of times the word 'elephant' appears in a string (case-insensitive).\"\"\"\n",
        "  return input_string.lower().count('elephant')\n",
        "\n",
        "# Example usage:\n",
        "print(count_elephants(\"Elephant and elephant and another Elephant.\"))\n",
        "print(count_elephants(\"No elephants.\"))"
      ],
      "execution_count": 11,
      "outputs": [
        {
          "output_type": "stream",
          "name": "stdout",
          "text": [
            "3\n",
            "1\n"
          ]
        }
      ]
    },
    {
      "cell_type": "code",
      "metadata": {
        "colab": {
          "base_uri": "https://localhost:8080/"
        },
        "id": "06922a56",
        "outputId": "bb06d54b-742e-414f-95cc-6abdb28fef23"
      },
      "source": [
        "# h) Write a function to return one of 3 possible results: \"Low speed\", \"Medium speed\", or \"Fast speed\".\n",
        "# If your speed is 60 or less, the result is \"Low speed\". If speed is between 61 and 80 inclusive, the result is \"Medium speed\".\n",
        "# If speed is 81 or more, the result is \"Fast speed\".\n",
        "# Unless it is your birthday (encoded as a boolean value in the parameters of the function) -- on your birthday, your speed can be 5 higher in all cases.\n",
        "def get_speed_category(speed, is_birthday):\n",
        "  \"\"\"Determines speed category based on speed and birthday.\"\"\"\n",
        "  if is_birthday:\n",
        "    speed += 5\n",
        "\n",
        "  if speed <= 60:\n",
        "    return \"Low speed\"\n",
        "  elif 61 <= speed <= 80:\n",
        "    return \"Medium speed\"\n",
        "  else:\n",
        "    return \"Fast speed\"\n",
        "\n",
        "# Example usage:\n",
        "print(get_speed_category(55, False))\n",
        "print(get_speed_category(60, True))\n",
        "print(get_speed_category(75, False))\n",
        "print(get_speed_category(80, True))\n",
        "print(get_speed_category(85, False))"
      ],
      "execution_count": 12,
      "outputs": [
        {
          "output_type": "stream",
          "name": "stdout",
          "text": [
            "Low speed\n",
            "Medium speed\n",
            "Medium speed\n",
            "Fast speed\n",
            "Fast speed\n"
          ]
        }
      ]
    }
  ]
}