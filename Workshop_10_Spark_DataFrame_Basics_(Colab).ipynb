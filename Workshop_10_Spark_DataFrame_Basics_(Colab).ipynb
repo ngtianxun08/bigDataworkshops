{
  "nbformat": 4,
  "nbformat_minor": 0,
  "metadata": {
    "colab": {
      "provenance": [],
      "authorship_tag": "ABX9TyPrEZq/LmN6F0m4Itp38IeT",
      "include_colab_link": true
    },
    "kernelspec": {
      "name": "python3",
      "display_name": "Python 3"
    },
    "language_info": {
      "name": "python"
    }
  },
  "cells": [
    {
      "cell_type": "markdown",
      "metadata": {
        "id": "view-in-github",
        "colab_type": "text"
      },
      "source": [
        "<a href=\"https://colab.research.google.com/github/ngtianxun08/bigDataworkshops/blob/main/Workshop_10_Spark_DataFrame_Basics_(Colab).ipynb\" target=\"_parent\"><img src=\"https://colab.research.google.com/assets/colab-badge.svg\" alt=\"Open In Colab\"/></a>"
      ]
    },
    {
      "cell_type": "markdown",
      "source": [
        "Q1 This question is testing your understanding of Python Basics."
      ],
      "metadata": {
        "id": "JxCrKeGMSaeV"
      }
    },
    {
      "cell_type": "code",
      "metadata": {
        "colab": {
          "base_uri": "https://localhost:8080/",
          "height": 0
        },
        "id": "fcd8eda9",
        "outputId": "13f9047a-309e-4804-9ec5-aa3dd2f2e421"
      },
      "source": [
        "# a) What is 8 to the power 4?\n",
        "print(8**4)"
      ],
      "execution_count": 5,
      "outputs": [
        {
          "output_type": "stream",
          "name": "stdout",
          "text": [
            "4096\n"
          ]
        }
      ]
    },
    {
      "cell_type": "code",
      "metadata": {
        "colab": {
          "base_uri": "https://localhost:8080/",
          "height": 0
        },
        "id": "35365749",
        "outputId": "4eb2dc1d-2efc-40e3-dc11-a5247f0a12a4"
      },
      "source": [
        "# b) Split this string “Split this string”\n",
        "print(\"Split this string\".split())"
      ],
      "execution_count": 6,
      "outputs": [
        {
          "output_type": "stream",
          "name": "stdout",
          "text": [
            "['Split', 'this', 'string']\n"
          ]
        }
      ]
    },
    {
      "cell_type": "code",
      "metadata": {
        "colab": {
          "base_uri": "https://localhost:8080/",
          "height": 0
        },
        "id": "e0f62a0b",
        "outputId": "aba61750-772a-4bb7-9b76-11336800f01d"
      },
      "source": [
        "# c) Given the variables: planet = “Earth”, diameter = 12742, use .format() to print the following string “The diameter of Earth is 12742 kilometers.”\n",
        "planet = \"Earth\"\n",
        "diameter = 12742\n",
        "print(\"The diameter of {} is {} kilometers.\".format(planet, diameter))"
      ],
      "execution_count": 7,
      "outputs": [
        {
          "output_type": "stream",
          "name": "stdout",
          "text": [
            "The diameter of Earth is 12742 kilometers.\n"
          ]
        }
      ]
    },
    {
      "cell_type": "code",
      "metadata": {
        "colab": {
          "base_uri": "https://localhost:8080/",
          "height": 0
        },
        "id": "1ea2a3f5",
        "outputId": "5e847ace-a1e0-4669-c16b-819604ec17b8"
      },
      "source": [
        "# d) Given the name list, use indexing to grab word “target”, the_list = [1,2,[3,4],[5,[100,200,['target']],23,11],1,7]\n",
        "the_list = [1,2,[3,4],[5,[100,200,['target']],23,11],1,7]\n",
        "print(the_list[3][1][2][0])"
      ],
      "execution_count": 8,
      "outputs": [
        {
          "output_type": "stream",
          "name": "stdout",
          "text": [
            "target\n"
          ]
        }
      ]
    },
    {
      "cell_type": "code",
      "metadata": {
        "colab": {
          "base_uri": "https://localhost:8080/",
          "height": 0
        },
        "id": "11563bdf",
        "outputId": "0c36ec26-16ec-44de-b969-b723b835a30b"
      },
      "source": [
        "# e) Given this nest dictionary grab the work “hello”. The_dic = {'k1':[1,2,3,{'tricky':['oh','man','inception',{'target':[1,2,3,'hello']}]}]}\n",
        "The_dic = {'k1':[1,2,3,{'tricky':['oh','man','inception',{'target':[1,2,3,'hello']}]}]}\n",
        "print(The_dic['k1'][3]['tricky'][3]['target'][3])"
      ],
      "execution_count": 9,
      "outputs": [
        {
          "output_type": "stream",
          "name": "stdout",
          "text": [
            "hello\n"
          ]
        }
      ]
    },
    {
      "cell_type": "code",
      "metadata": {
        "colab": {
          "base_uri": "https://localhost:8080/",
          "height": 0
        },
        "id": "5dae6833",
        "outputId": "3c07169d-b13c-4ae2-bdf0-be532be163d9"
      },
      "source": [
        "# f) Create a basic function that returns True if the word 'elephant' is contained in the input string.\n",
        "# Don't worry about edge cases like a punctuation being attached to the word dog, but do account for capitalization.\n",
        "def has_elephant(input_string):\n",
        "  \"\"\"Checks if the word 'elephant' is in the input string (case-insensitive).\"\"\"\n",
        "  return 'elephant' in input_string.lower()\n",
        "\n",
        "# Example usage:\n",
        "print(has_elephant(\"This string contains an Elephant.\"))\n",
        "print(has_elephant(\"No elephants here.\"))"
      ],
      "execution_count": 10,
      "outputs": [
        {
          "output_type": "stream",
          "name": "stdout",
          "text": [
            "True\n",
            "True\n"
          ]
        }
      ]
    },
    {
      "cell_type": "code",
      "metadata": {
        "colab": {
          "base_uri": "https://localhost:8080/",
          "height": 0
        },
        "id": "917474ef",
        "outputId": "39ed5fc8-c685-4a8b-f537-4a5b6563cbb1"
      },
      "source": [
        "# g) Create a function that counts the number of times the word \"elephant\" occurs in a string.\n",
        "# Again ignore edge cases.\n",
        "def count_elephants(input_string):\n",
        "  \"\"\"Counts the number of times the word 'elephant' appears in a string (case-insensitive).\"\"\"\n",
        "  return input_string.lower().count('elephant')\n",
        "\n",
        "# Example usage:\n",
        "print(count_elephants(\"Elephant and elephant and another Elephant.\"))\n",
        "print(count_elephants(\"No elephants.\"))"
      ],
      "execution_count": 11,
      "outputs": [
        {
          "output_type": "stream",
          "name": "stdout",
          "text": [
            "3\n",
            "1\n"
          ]
        }
      ]
    },
    {
      "cell_type": "code",
      "metadata": {
        "colab": {
          "base_uri": "https://localhost:8080/",
          "height": 0
        },
        "id": "06922a56",
        "outputId": "bb06d54b-742e-414f-95cc-6abdb28fef23"
      },
      "source": [
        "# h) Write a function to return one of 3 possible results: \"Low speed\", \"Medium speed\", or \"Fast speed\".\n",
        "# If your speed is 60 or less, the result is \"Low speed\". If speed is between 61 and 80 inclusive, the result is \"Medium speed\".\n",
        "# If speed is 81 or more, the result is \"Fast speed\".\n",
        "# Unless it is your birthday (encoded as a boolean value in the parameters of the function) -- on your birthday, your speed can be 5 higher in all cases.\n",
        "def get_speed_category(speed, is_birthday):\n",
        "  \"\"\"Determines speed category based on speed and birthday.\"\"\"\n",
        "  if is_birthday:\n",
        "    speed += 5\n",
        "\n",
        "  if speed <= 60:\n",
        "    return \"Low speed\"\n",
        "  elif 61 <= speed <= 80:\n",
        "    return \"Medium speed\"\n",
        "  else:\n",
        "    return \"Fast speed\"\n",
        "\n",
        "# Example usage:\n",
        "print(get_speed_category(55, False))\n",
        "print(get_speed_category(60, True))\n",
        "print(get_speed_category(75, False))\n",
        "print(get_speed_category(80, True))\n",
        "print(get_speed_category(85, False))"
      ],
      "execution_count": 12,
      "outputs": [
        {
          "output_type": "stream",
          "name": "stdout",
          "text": [
            "Low speed\n",
            "Medium speed\n",
            "Medium speed\n",
            "Fast speed\n",
            "Fast speed\n"
          ]
        }
      ]
    },
    {
      "cell_type": "markdown",
      "source": [
        "Q2 This question is testing your understanding of PySpark operations on DataFrame."
      ],
      "metadata": {
        "id": "FOEmcp8qShaB"
      }
    },
    {
      "cell_type": "code",
      "metadata": {
        "colab": {
          "base_uri": "https://localhost:8080/"
        },
        "id": "98fd3f17",
        "outputId": "50885b56-5c47-4ee2-e9cb-c57cec921f1b"
      },
      "source": [
        "from pyspark.sql import SparkSession\n",
        "from pyspark.sql.functions import min, max, avg, sum, count\n",
        "\n",
        "# Create a SparkSession\n",
        "spark = SparkSession.builder.appName(\"PySparkOperations\").getOrCreate()\n",
        "\n",
        "# Given data\n",
        "data = [(\"James\",\"Sales\",\"SG\",70000,34,10000),\n",
        "        (\"Michael\",\"Sales\",\"SG\",66000,56,20000),\n",
        "        (\"Robert\",\"Sales\",\"MY\",61000,30,23000),\n",
        "        (\"Maria\",\"Finance\",\"MY\",60000,24,23000),\n",
        "        (\"Raman\",\"Finance\",\"USA\",79000,40,24000),\n",
        "        (\"Scott\",\"Finance\",\"USA\",63000,36,19000),\n",
        "        (\"Jen\",\"Finance\",\"UK\",89000,53,15000),\n",
        "        (\"Jeff\",\"Marketing\",\"UK\",70000,25,18000),\n",
        "        (\"Alice\",\"Marketing\",\"UK\",78000,50,21000),\n",
        "        (\"Ada\",\"IT\",\"SG\",83000,35,11000),\n",
        "        (\"Jackson\",\"IT\",\"MY\",71000,30,21000),\n",
        "        (\"Cooper\",\"IT\",\"UK\",91000,40,21000)]\n",
        "\n",
        "# Define schema\n",
        "schema = [\"employee_name\", \"department\", \"country\", \"salary\", \"age\", \"bonus\"]\n",
        "\n",
        "# Create DataFrame\n",
        "df = spark.createDataFrame(data, schema)\n",
        "\n",
        "# Show data and print schema\n",
        "print(\"DataFrame Data:\")\n",
        "df.show()\n",
        "\n",
        "print(\"DataFrame Schema:\")\n",
        "df.printSchema()"
      ],
      "execution_count": 19,
      "outputs": [
        {
          "output_type": "stream",
          "name": "stdout",
          "text": [
            "DataFrame Data:\n",
            "+-------------+----------+-------+------+---+-----+\n",
            "|employee_name|department|country|salary|age|bonus|\n",
            "+-------------+----------+-------+------+---+-----+\n",
            "|        James|     Sales|     SG| 70000| 34|10000|\n",
            "|      Michael|     Sales|     SG| 66000| 56|20000|\n",
            "|       Robert|     Sales|     MY| 61000| 30|23000|\n",
            "|        Maria|   Finance|     MY| 60000| 24|23000|\n",
            "|        Raman|   Finance|    USA| 79000| 40|24000|\n",
            "|        Scott|   Finance|    USA| 63000| 36|19000|\n",
            "|          Jen|   Finance|     UK| 89000| 53|15000|\n",
            "|         Jeff| Marketing|     UK| 70000| 25|18000|\n",
            "|        Alice| Marketing|     UK| 78000| 50|21000|\n",
            "|          Ada|        IT|     SG| 83000| 35|11000|\n",
            "|      Jackson|        IT|     MY| 71000| 30|21000|\n",
            "|       Cooper|        IT|     UK| 91000| 40|21000|\n",
            "+-------------+----------+-------+------+---+-----+\n",
            "\n",
            "DataFrame Schema:\n",
            "root\n",
            " |-- employee_name: string (nullable = true)\n",
            " |-- department: string (nullable = true)\n",
            " |-- country: string (nullable = true)\n",
            " |-- salary: long (nullable = true)\n",
            " |-- age: long (nullable = true)\n",
            " |-- bonus: long (nullable = true)\n",
            "\n"
          ]
        }
      ]
    },
    {
      "cell_type": "code",
      "metadata": {
        "colab": {
          "base_uri": "https://localhost:8080/"
        },
        "id": "a77249c8",
        "outputId": "3f6c7dd3-b890-4de7-c453-791e1e98e3f2"
      },
      "source": [
        "# Group by department and calculate aggregates\n",
        "department_aggregates = df.groupBy(\"department\").agg(\n",
        "    min(\"salary\").alias(\"min_salary\"),\n",
        "    max(\"salary\").alias(\"max_salary\"),\n",
        "    avg(\"salary\").alias(\"average_salary\"),\n",
        "    sum(\"salary\").alias(\"total_salary\"),\n",
        "    count(\"*\").alias(\"employee_count\")\n",
        ")\n",
        "\n",
        "print(\"Aggregates by Department:\")\n",
        "department_aggregates.show()"
      ],
      "execution_count": 20,
      "outputs": [
        {
          "output_type": "stream",
          "name": "stdout",
          "text": [
            "Aggregates by Department:\n",
            "+----------+----------+----------+-----------------+------------+--------------+\n",
            "|department|min_salary|max_salary|   average_salary|total_salary|employee_count|\n",
            "+----------+----------+----------+-----------------+------------+--------------+\n",
            "|     Sales|     61000|     70000|65666.66666666667|      197000|             3|\n",
            "|   Finance|     60000|     89000|          72750.0|      291000|             4|\n",
            "| Marketing|     70000|     78000|          74000.0|      148000|             2|\n",
            "|        IT|     71000|     91000|81666.66666666667|      245000|             3|\n",
            "+----------+----------+----------+-----------------+------------+--------------+\n",
            "\n"
          ]
        }
      ]
    },
    {
      "cell_type": "code",
      "metadata": {
        "colab": {
          "base_uri": "https://localhost:8080/"
        },
        "id": "671203ad",
        "outputId": "9a417ad0-7588-4923-8c98-c7aa1582e158"
      },
      "source": [
        "# Group by country and calculate aggregates\n",
        "country_aggregates = df.groupBy(\"country\").agg(\n",
        "    min(\"salary\").alias(\"min_salary\"),\n",
        "    max(\"salary\").alias(\"max_salary\"),\n",
        "    avg(\"salary\").alias(\"average_salary\"),\n",
        "    sum(\"salary\").alias(\"total_salary\"),\n",
        "    count(\"*\").alias(\"employee_count\")\n",
        ")\n",
        "\n",
        "print(\"Aggregates by Country:\")\n",
        "country_aggregates.show()"
      ],
      "execution_count": 21,
      "outputs": [
        {
          "output_type": "stream",
          "name": "stdout",
          "text": [
            "Aggregates by Country:\n",
            "+-------+----------+----------+--------------+------------+--------------+\n",
            "|country|min_salary|max_salary|average_salary|total_salary|employee_count|\n",
            "+-------+----------+----------+--------------+------------+--------------+\n",
            "|     MY|     60000|     71000|       64000.0|      192000|             3|\n",
            "|    USA|     63000|     79000|       71000.0|      142000|             2|\n",
            "|     SG|     66000|     83000|       73000.0|      219000|             3|\n",
            "|     UK|     70000|     91000|       82000.0|      328000|             4|\n",
            "+-------+----------+----------+--------------+------------+--------------+\n",
            "\n"
          ]
        }
      ]
    }
  ]
}